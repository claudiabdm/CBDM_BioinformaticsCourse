{
 "cells": [
  {
   "cell_type": "markdown",
   "metadata": {},
   "source": [
    "# Claudia Benito de Moya\n",
    "\n",
    "### c.benitod@alumnos.upm.es\n"
   ]
  },
  {
   "cell_type": "markdown",
   "metadata": {},
   "source": [
    "\n",
    "## Problem 2\n",
    "\n",
    "Create a directory listing command that shows:\n",
    "* the ownership of the file\n",
    "* it's file-size, in Megabytes (i.e. human readable)\n",
    "* in words (in the text box), describe the _permissions_ on that file (read/write/execute) for users, groups, and \"anyone\"\n",
    "\n",
    "It is allowed to write and read for users and groups but anyone is only allow to read the file and not allow to modify it. "
   ]
  },
  {
   "cell_type": "code",
   "execution_count": 28,
   "metadata": {},
   "outputs": [
    {
     "name": "stdout",
     "output_type": "stream",
     "text": [
      "-rw-rw-r-- 1 osboxes osboxes 1.2M Sep  5 14:56 Locus_Germplasm_Phenotype_20130122.txt\n",
      "/home/osboxes/BioinformaticsCourseGit/CBDM_ComputationalBiologyMaster/Accelerated_Intro_WilkinsonExams\n"
     ]
    }
   ],
   "source": [
    "\n",
    "ls -lhr Locus_Germplasm_Phenotype_20130122.txt"
   ]
  },
  {
   "cell_type": "markdown",
   "metadata": {},
   "source": [
    "\n",
    "## Problem 3\n",
    "\n",
    "Create a command that outputs only the \"header\" line"
   ]
  },
  {
   "cell_type": "code",
   "execution_count": 8,
   "metadata": {},
   "outputs": [
    {
     "name": "stdout",
     "output_type": "stream",
     "text": [
      "Locus_name)\tGermplasm_name\tphenotype\tpubmed_id\n"
     ]
    }
   ],
   "source": [
    "head -1 Locus_Germplasm_Phenotype_20130122.txt"
   ]
  },
  {
   "cell_type": "markdown",
   "metadata": {},
   "source": [
    "\n",
    "## Problem 4\n",
    "\n",
    "Create a command that outputs the total number of lines in the file"
   ]
  },
  {
   "cell_type": "code",
   "execution_count": 11,
   "metadata": {},
   "outputs": [
    {
     "name": "stdout",
     "output_type": "stream",
     "text": [
      "7216\n"
     ]
    }
   ],
   "source": [
    "cat Locus_Germplasm_Phenotype_20130122.txt | wc -l"
   ]
  },
  {
   "cell_type": "markdown",
   "metadata": {},
   "source": [
    "\n",
    "## Problem 5\n",
    "\n",
    "* Create a command that writes ONLY the data lines (i.e. excludes the header!) to a new file called \"Data_Only.csv\"\n",
    "* prove that your output file has the expected number of lines\n",
    "\n",
    "It has one line less because the header has been removed.\n"
   ]
  },
  {
   "cell_type": "code",
   "execution_count": 12,
   "metadata": {},
   "outputs": [
    {
     "name": "stdout",
     "output_type": "stream",
     "text": [
      "          Expected lines in Data_Only 7215\n",
      "7216 Locus_Germplasm_Phenotype_20130122.txt\n",
      "7215 Data_Only.csv\n",
      " \n",
      "          Locus_Germplasm_Phenotype_20130122.txt\n",
      "Locus_name)\tGermplasm_name\tphenotype\tpubmed_id\n",
      "AT1G01040\tCS3828\tIncreased abundance of miRNA precursors.\t17369351\n",
      "AT1G01040\tCS3828\tindeterminate floral meristems, producing extra whorls of stamens and an indefinite number of carpels; unregulated cell division in the center of the flower with normal floral organ identity; plants also show other developmental defects including absence of axillary inflorescence meristems and abnormally shaped cotyledons, leaves, sepals, stamens and carpels\t10556049\n",
      " \n",
      "          Data_Only (missing header)\n",
      "AT1G01040\tCS3828\tIncreased abundance of miRNA precursors.\t17369351\n",
      "AT1G01040\tCS3828\tindeterminate floral meristems, producing extra whorls of stamens and an indefinite number of carpels; unregulated cell division in the center of the flower with normal floral organ identity; plants also show other developmental defects including absence of axillary inflorescence meristems and abnormally shaped cotyledons, leaves, sepals, stamens and carpels\t10556049\n"
     ]
    }
   ],
   "source": [
    "tail -n +2 Locus_Germplasm_Phenotype_20130122.txt > Data_Only.csv\n",
    "\n",
    "echo \"          Expected lines in Data_Only 7215\"\n",
    "wc -l Locus_Germplasm_Phenotype_20130122.txt \n",
    "wc -l Data_Only.csv\n",
    "\n",
    "echo \" \"\n",
    "\n",
    "echo \"          Locus_Germplasm_Phenotype_20130122.txt\"\n",
    "head -3  Locus_Germplasm_Phenotype_20130122.txt\n",
    "\n",
    "echo \" \"\n",
    "\n",
    "echo \"          Data_Only (missing header)\"\n",
    "head -2 Data_Only.csv"
   ]
  },
  {
   "cell_type": "markdown",
   "metadata": {},
   "source": [
    "\n",
    "## Problem 6\n",
    "\n",
    "* Create a command that shows all of the lines that have a phenotype including the word \"root\"\n"
   ]
  },
  {
   "cell_type": "code",
   "execution_count": 18,
   "metadata": {},
   "outputs": [
    {
     "name": "stdout",
     "output_type": "stream",
     "text": [
      "23:AT1G01550\tbps1-2\tGrowth of bps1-2 mutants on CPTA-supplemented medium resulted in partial rescue of both leaf and root defects. bps1-2 mutants grown on control growth medium have small radialized leaves with very little vascular tissue, and very short misshapen knotted-looking roots. By contrast, bps1-2 mutants grown on CPTA-supplemented medium produced larger flattened leaves that contained primary and secondary veins, and smooth elongated roots.\t17217459\n",
      "24:AT1G01550\tbps1-2\tMutant roots were abnormal; primary and lateral roots were short, root hairs formed close to the root apex, and root defects were most severe when plants were grown at low temperature.\t15458645\n",
      "26:AT1G01550\tbps1-2\tUnder high light conditions (approximately 200 &mu;E.m-2.sec-1), CPTA-treated seedlings were completely photobleached and mutants showed rescue of both leaf and root development. Under moderate (approximately 100 &mu;E.m-2.sec-1) and low (30 &mu;E.m-2.sec-1) light intensities, seedlings are incompletely photobleached, but leaf and root development continue to show partial rescue.\t17217459\n",
      "90:AT1G02970\twee1-1\tsignificant decreased root elongation rates, densely clustered hairs at the root tip and outgrowth of lateral roots\t17209125\n",
      "91:AT1G03000\tpex6\tResistant to root elongation inhibition by IBA but responds normally to IAA.  Fails to respond to the stimulatory effects of IBA on lateral root initiation but makes lateral roots in response to IAA.  Specifically defective in IBA responses.  Has several peroxisome-defective phenotypes:  does not develop normally without exogenous sucrose, dramatic defects in hypocotyl and root elongation in the absence of sucrose. Shorter root and hypocotyl than WT.  Plants grown in soil have smaller rosettes, fewer rosette leaves, and shorter primary inflorescence stems than WT.  Also has shorter siliques containing fewer seeds than WT.  Pale green in color.\t14745029\n",
      "92:AT1G03060\tspi-11\tTrichome cells have shorter branches, reduced stalk length and width.  Epidermal pavement cells are less complex, with less lobing.  Root hairs are shorter and root hair vacuoles are fragmented.\t19392685\n",
      "93:AT1G03060\tspi-12\tTrichome cells have shorter branches, reduced stalk length and width.  Epidermal pavement cells are less complex, with less lobing.  Root hairs are shorter and root hair vacuoles are fragmented.\t19392685\n",
      "94:AT1G03060\tspi-139\tTrichome cells have shorter branches, reduced stalk length and width.  Epidermal pavement cells are less complex, with less lobing.  Root hairs are shorter and root hair vacuoles are fragmented.\t19392685\n",
      "95:AT1G03060\tspi-4.2\tTrichome cells have shorter branches, reduced stalk length and width.  Epidermal pavement cells are less complex, with less lobing.  Root hairs are shorter and root hair vacuoles are fragmented.\t19392685\n",
      "144:AT1G04020\tbard1-3\tMutant meristems develop abnormally.The meristem is enlarged shortly after germination and appears disorganized. Primordia are irregular and lateral organs produced include tubular and finger-like structures. Also affects the development of roots. Primary root growth is inhibited. The root apical meristems are enlarged and lack distinct columella cells or starch granules.\t18591352\n",
      "145:AT1G04030\tbard1-3\tMutant meristems develop abnormally.The meristem is enlarged shortly after germination and appears disorganized. Primordia are irregular and lateral organs produced include tubular and finger-like structures. Also affects the development of roots. Primary root growth is inhibited. The root apical meristems are enlarged and lack distinct columella cells or starch granules.\t18591352\n",
      "150:AT1G04160\tCS859930\tThere are no obvious defects in the aerial tissues, roots, or root hairs of xi-b mutant plants grown under normal conditions. There are also no obvious defects in organelle trafficking. Double mutant analysis reveals a role for xi-b in root hair elongation (see xi-2/xi-b).\t18178669\n",
      "151:AT1G04160\tSALK_113062C\tThere are no obvious defects in the aerial tissues, roots, or root hairs of xi-b mutant plants grown under normal conditions. There are also no obvious defects in organelle trafficking. Double mutant analysis reveals a role for xi-b in root hair elongation (see xi-2/xi-b)\t18178669\n",
      "152:AT1G04160\txi-2 / xi-b\tThe overall growth of the xi-2 / xi-b double mutant is normal. In the leaf epidermis, Golgi stacks and peroxisomes move more slowly in these mutant cells than in wild-type cells. The rate of mitochondrial movement is also slightly reduced. Root hair length is reduced to ~15% of the wild type root hair length in these double mutants, but their root hair density is very similar to the wild type density.\t19060218\n",
      "154:AT1G04220\tdaisy-2\tsignificantly reduced root growth\t18786002\n",
      "156:AT1G04250\tCS57505\tThe mutant is less affected by brassinolide than wildtype with regard to inhibition of root elongation.\t16367964\n",
      "180:AT1G05180\tAXL/axl-1 axr1-12\tHomozygous axr1-12 plants that are heterozygous for axl-1 display severe growth defects. These seedlings developed short, slow growing roots compared with wild-type roots, and were arrested at the late seedling stage.\t17655650\n",
      "185:AT1G05180\tAXL/axl-1 axr1-12\tThe columella of AXL/axl-1 axr1-12/axr1-12 root tips is highly disorganized during early seedling root growth, and is completely disrupted at the time when root growth ceases.\t17655650\n",
      "190:AT1G05180\tCS8038\tauxin resistant; irregular rosette leaves, slightly curled around leaf axis; roots very auxin resistant; defective root gravitropism; reduced number of lateral roots; plant appearance similar to axr1-12, but more pronounced; dwarf, bushy plants; reduced plant height; reduced fertility.\t7704045\n",
      "211:AT1G05850\tpom1-1\tCallus-induced roots from the mutant displayed the mutant phenotype when they grew under restrictive conditions. All the mutants responded to a gravitropic stimulus in a manner similar to wild type although the change of the direction of growth was slower than wild type.\t7743935\n",
      "224:AT1G05850\tpom1-7\tWhen grown on media containing 0.5% sucrose, the mutant had reduced root length but no apparent radial cell expansion.\t7743935\n",
      "226:AT1G05850\tpom1-8\tWhen grown on media containing 0.5% sucrose, the mutant had reduced root length but no apparent radial cell expansion.\t7743935\n",
      "234:AT1G06290\tacx3-2\tPlants display decreased sensitivity to the inhibitory effect of indole-3-butyric acid (IBA) on root elongation, while remaining sensitive to inhibitory concentrations of indole-3-acetic acid.  They maintain their ability to initiate lateral roots in response to IBA.\t15743450\n",
      "235:AT1G06290\tacx3-4\tPlants display decreased sensitivity to the inhibitory effect of indole-3-butyric acid (IBA) on root elongation, while remaining sensitive to inhibitory concentrations of indole-3-acetic acid.  They maintain their ability to initiate lateral roots in response to IBA.\t15743450\n",
      "251:AT1G08030\tSALK_009847\tSeedlings of tpst-1 had stunted roots and smaller cotyledons compared with the WT.  tpst-1 has an abnormally shaped root apical meristem due to disorganized cell division and expansion. At 15 days after germination, the leaves of the tpst-1 plants are small and pale green, the number of higher order veins is reduced, and the secondary veins often do not close.  At the flowering stage, tpst-1 has smaller rosettes, tiny leaves showing early senescence, shorter inflorescence, and a reduced number of flowers and siliques. The fertility and seed set of tpst-1 are normal.\t19666544\n",
      "253:AT1G08260\ttilted1-4\tTwenty-five percent of embryos show abnormal cell divisions during embryogenesis-large cells- decreased rate of cell division. Division of the hypohyseal cell abnormal leading to abnormal placement of the root pole. Homozygotes show delayed flowering, abnormal floraly phyllotaxy and abnormal ovules.\t16278345\n",
      "255:AT1G08370\tdcp1-2\tThe homozygous progeny is seedling lethal, showed arrested postembryonic development including cotyledon expansion, development of vascular networks, root elongation, and shoot development.\t17485080\n",
      "256:AT1G08430\tAtalm1-KO\tOn Al3+ medium, the mutant has significantly shorter roots than the Col wild type. In the absence of aluminum stress, the roots of mutant and wild type grew similarly.\t16740662\n"
     ]
    },
    {
     "name": "stdout",
     "output_type": "stream",
     "text": [
      "257:AT1G08430\tAtalm1-KO\tThe mutant exhibits very low levels of root  growth and malate release in the presence of  Al (0.2 nmol plant-1 24 h-1).\n",
      "289:AT1G09100\trpt5b\tInsensitive to high-glucose repression of cotyledon expansion, chlorophyll accumulation, true-leaf development and root elongation. The response is specific to glucose but not to osmotic changes.\t17081979\n",
      "294:AT1G09110\trpt5b\tInsensitive to high-glucose repression of cotyledon expansion, chlorophyll accumulation, true-leaf development and root elongation. The response is specific to glucose but not to osmotic changes.\t17081979\n",
      "336:AT1G09940\tathema2\tno visible phenotype. decreased heme contents in roots.\n",
      "340:AT1G10130\teca3-1\tShoot and root growth is strongly retarded when plants are grown in the absence of Mn.  Also shows delayed growth when grown in the absence of Ca.\t18024560\n",
      "358:AT1G10570\tots1-1 ots2-1\tThe ots1-1 ots2-1 double mutant plants flower earlier than wild type plants under long days and short days. They do not differ notably from wild type plants with respect to their overall growth rate, inflorescence structure, or seedling primary root elongation rate. But, they are hypersensitive to salt based on root elongation assays. They also have a higher level of SUMOylated proteins than wild type seedlings exposed to salt stress.\t18849491\n",
      "383:AT1G11130\tscm-1\tPosition of root-hair cells is scrambled.  Only 66% of epidermal cells (compared with 92% in wild type) overlying two cortical cells develop as root hairs, and 21% of epidermal cells overlying one cortical cell (compared with 1% in wild type) develop as root hairs.\t15618487\n",
      "391:AT1G12240\tSALK_100813 (homozygous)\tSignificantly shorter roots.  50% reduction in vacuolar invertase (Vac-Inv) activity compared to parental line.\t16481625\n",
      "394:AT1G12610\tddf1-LF1\tLonger roots when plants are grown under salt stress (50-100 nM NaCl).\t18643985\n",
      "410:AT1G13290\tdot5-1\tdot5-1 mutants have a misaligned venation defect in their leaves and cotyledons. Their phenotypes may vary somewhat, but dot5-1 mutants often have shorter roots and delayed leaf initiation compared to wild-type seedlings. They also have an abnormal petiole length and phyllotaxy. Apical dominance is reduced in dot5-1 mutants, and they appear to be hypersensitive to an application of the polar auxin transport inhibitor NPA.\t18643975\n",
      "430:AT1G14290\tsbh1-1 sbh2-1\tDwarf plants with reduced vigor, dies before expansion of the true leaves, necrotic lesions on cotyledons. When grew on agar plates, the double mutants displayed extended viability and developed into compact and epinastic rosette with small curled leaves and short petioles, however no bolting. Short roots on agar plate.\t18612100\n",
      "435:AT1G14660\tSALK_070497\tLi+ hypersensitive. Under low Li+ concentrations, germination of mutant seeds and elongation of roots were significantly reduced.\t17270011\n",
      "436:AT1G14660\tSALK_086336\tLi+ hypersensitive. Under low Li+ concentrations, germination of mutant seeds and elongation of roots were significantly reduced.\t17270011\n",
      "467:AT1G15550\tga3ox1-3\tRoots shorter than that of wildtype.\t16460513\n",
      "477:AT1G15550\tga3ox1-3 ga3ox2-1\tSevere defect in root length.\t16460513\n",
      "480:AT1G15690\tavp1-1\tShoot defects include: smaller leaves, decreased cell number in leaves, mesophyll and vascular patterning disorganized, cup-shaped cotyledons.Root defects: small cells at apex, columella cell layers reduced to 2, deformed root cap.\t16210544\n",
      "496:AT1G16150\twakl4-1\tSeedlings consistently show retarded root growth when grown in full- or one-half-strength MS nutrients and are hypersensitive, as assayed by a root elongation assay, to Na+, K+, Zn2+ and Cu2+.\t16286448\n",
      "520:AT1G17110\tubp15-1\tubp15-1 mutants exhibit several anatomical defects related to leaf, root, flower, stem, and silique development. Notably, rosette leaves are narrow and serrated. An examination of ubp15-1 leaf cross-sections reveals a reduction in the number of adaxial epidermal and palisade cells spanning the width of the leaf. ubp15-1 mutant leaves also have fewer spongy cell layers than wild type leaves. The aberrant phenotype of this mutant is exacerbated when it is crossed with ubp16-1.\t18485060\n",
      "521:AT1G17170\tgst\tAs for the root growth assay, the root elongation of both the mutant and the wild-type was inhibited at lower concentrations of TNT than 2,6-DNT. In addition, there was no statistically significant difference of the root elongation between the gst mutant and the wild-type exposed to different concentrations of 2,6-DNT and TNT from t-test.\n",
      "529:AT1G17440\teer4\tRoots are extremely curled.   Dark-grown seedlings are hypersensitive to ethylene. Extreme hypocotyl shortening is observed when grown on 100ul /L ethylene.\n",
      "535:AT1G17580\tSALK_019031C\tThere are no obvious defects in the aerial tissues, roots, or root hairs of xi-1 mutant plants grown under normal conditions. There are also no obvious defects in organelle trafficking, except for a slight effect on peroxisome movement. Double mutant analysis reveals a greater role for XI-1 in organelle movement and plant development (see xik-2/xi-1).\t18178669\n",
      "536:AT1G17580\txi-k / xi-1\tThe xi-k / xi-1 double mutant plants are shorter and have smaller rosettes than wild type plants. Their reduced leaf size results from decreased cell size and decreased cell number. These double mutants produce fewer seeds per silique than wild type plants. In the leaf epidermis, Golgi stacks, peroxisomes, and mitochondria move more slowly in these mutant cells than in wild-type cells. Root hair length is reduced to ~35% of the wild type root hair length in these double mutants, but their root hair density is very similar to the wild type density.\t19060218\n",
      "545:AT1G18350\tbud1\tbud1 plants develop significantly fewer  lateral roots, simpler venation patterns, and a quicker and greater curvature in the gravitropism assay. In addition, the bud1  plants have shorter hypocotyls at high temperature (29C) under light, which is a characteristic feature of defective auxin  action. Determination of tritium-labeled indole-3-acetic acid transport showed that the increased expression of MKK7 in bud1  or the repressed expression in MKK7 antisense transgenic plants causes deficiency or enhancement in auxin transport,  indicating that MKK7 negatively regulates polar auxin transport.\t16377756\n",
      "553:AT1G18800\tnrp1-1 nrp2-1\tDouble mutant plants showed a short-root phenotype: roots grew like the wild-type roots until 6 d after germination (DAG). However, after 7 DAG, the elongation of the double mutant roots was dramatically reduced compared with the wild-type roots. The aerial organs (leaves, rosettes, inflorescences, flowers, fruits, and embryos) developed normally in the double mutant plants.\n",
      "559:AT1G19220\tCS24617\tThe primary roots of the mutant produce as many lateral roots as the wild type.\t15659631\n",
      "563:AT1G19220\tCS24617\tno obvious auxin-related growth phenotype, but roots show mild auxin resistance\t15659631\n",
      "564:AT1G19220\tCS24618\tno obvious auxin-related growth phenotype, but roots show mild auxin resistance\t15659631\n"
     ]
    }
   ],
   "source": [
    "grep -Ein 'root' Locus_Germplasm_Phenotype_20130122.txt | head -n-1 #to delete this Binary file Locus_Germplasm_Phenotype_20130122.txt matches"
   ]
  },
  {
   "cell_type": "markdown",
   "metadata": {},
   "source": [
    "## Problem 7\n",
    "\n",
    "* Create a command that writes the AGI Locus Code for every line that has a phenotype including the word \"root\" to a file called: <br/>\"Root-associated-Loci.txt\""
   ]
  },
  {
   "cell_type": "code",
   "execution_count": 27,
   "metadata": {},
   "outputs": [
    {
     "name": "stdout",
     "output_type": "stream",
     "text": [
      "55\n",
      "55\n",
      "/home/osboxes/BioinformaticsCourseGit/CBDM_ComputationalBiologyMaster/Accelerated_Intro_WilkinsonExams\n"
     ]
    }
   ],
   "source": [
    "# Selecting AGI column\n",
    "grep -Ei 'root' Locus_Germplasm_Phenotype_20130122.txt | cut -f1 | head -n-1 > Root-associated-Loci.txt\n",
    "\n",
    "#Using grep and regrex\n",
    "grep -Ei 'root' Locus_Germplasm_Phenotype_20130122.txt | grep -Eio 'AT[1-5]G[0-9]{5}' > Root-associated-Loci1.txt\n",
    "\n",
    "cat Root-associated-Loci.txt  | wc -l\n",
    "cat Root-associated-Loci1.txt | wc -l"
   ]
  },
  {
   "cell_type": "markdown",
   "metadata": {},
   "source": [
    "## Problem 8\n",
    "\n",
    "* Create a command that writes the PubMed ID for every line that has a phenotype including the word \"root\" to a file called: <br/>\"Root-associated-Publications.txt\""
   ]
  },
  {
   "cell_type": "code",
   "execution_count": 21,
   "metadata": {},
   "outputs": [
    {
     "name": "stdout",
     "output_type": "stream",
     "text": [
      "55\n",
      "50\n"
     ]
    }
   ],
   "source": [
    "#Selecting PubMedID column\n",
    "grep -Ei 'root' Locus_Germplasm_Phenotype_20130122.txt | cut -f4 | head -n-1 > Root-associated-Publications.txt\n",
    "\n",
    "#Using regrex\n",
    "grep -Ei 'root' Locus_Germplasm_Phenotype_20130122.txt | grep -Ei '[0-9]+$' | cut -f4 > Root-associated-Publications1.txt\n",
    "\n",
    "cat Root-associated-Publications.txt  | wc -l\n",
    "cat Root-associated-Publications1.txt | wc -l\n"
   ]
  },
  {
   "cell_type": "markdown",
   "metadata": {},
   "source": [
    "\n",
    "Differences in output are due to grep not selecting those lines with missing value for the PubMedId column"
   ]
  },
  {
   "cell_type": "markdown",
   "metadata": {},
   "source": [
    "## Problem 9\n",
    "\n",
    "* _**Control experiment**_:  You would hypothesize that genes associated with roots **should be found on all chromosomes.**  Find a way (one or more commands) to test this hypothesis.  In this dataset, is the hypothesis true? \n"
   ]
  },
  {
   "cell_type": "code",
   "execution_count": 22,
   "metadata": {},
   "outputs": [
    {
     "name": "stdout",
     "output_type": "stream",
     "text": [
      "1\n",
      "AT1\n"
     ]
    }
   ],
   "source": [
    "#Selecting column\n",
    "cut -c3 Root-associated-Loci.txt | sort -u\n",
    "\n",
    "#Using regrex\n",
    "grep -Eio '^AT[1-5]' Root-associated-Loci.txt | sort -u "
   ]
  },
  {
   "cell_type": "markdown",
   "metadata": {},
   "source": [
    "The chromosome number can be obtained by selecting the 3rd column of the AGI codes and sorting it by uniqueness. Other way is to use grep and regrex and then sorting by uniqueness. \n",
    "The output only shows the number 1, thus, the hypothesis does not seem to be true for this dataset. "
   ]
  },
  {
   "cell_type": "markdown",
   "metadata": {},
   "source": [
    "## Problem 10\n",
    "\n",
    "* This dataset is from the most popular Arabidopsis database on earth!  **I did not change it!**  What does your answer to Problem 9 tell you?  Can you explain it?  What do you learn from this control that you should remember for the rest of your life?!\n",
    "\n",
    "\n",
    "I think it has something to do with the last line Binary file Locus_Germplasm_Phenotype_20130122.txt matches.\n",
    "\n",
    "Searching on google about this error I have found the solution by adding -a to grep. This fixes the problem because there are some unreadable characters and the file is treated as binary file. -a allows you to read this file as if it was text.\n",
    "\n",
    "In conclusion, you have to make sure whether your file is text or binary.\n",
    "\n",
    "Source: https://stackoverflow.com/questions/57304711/diff-command-along-with-grep-gives-binary-file-standard-input-matches"
   ]
  },
  {
   "cell_type": "code",
   "execution_count": 24,
   "metadata": {},
   "outputs": [
    {
     "name": "stdout",
     "output_type": "stream",
     "text": [
      "AT1\n",
      "AT2\n",
      "AT3\n",
      "AT4\n",
      "AT5\n",
      "887\n"
     ]
    }
   ],
   "source": [
    "grep -Eia 'root' Locus_Germplasm_Phenotype_20130122.txt | cut -f1 | grep -Eioa 'AT[0-9]'| sort -u\n",
    "\n",
    "grep -Eia 'root' Locus_Germplasm_Phenotype_20130122.txt | cut -f1| wc -l"
   ]
  },
  {
   "cell_type": "markdown",
   "metadata": {},
   "source": [
    "Now the hypothesis seems to be true and the number of phenotypes associated with roots increases. "
   ]
  },
  {
   "cell_type": "code",
   "execution_count": null,
   "metadata": {},
   "outputs": [],
   "source": []
  }
 ],
 "metadata": {
  "kernelspec": {
   "display_name": "Bash",
   "language": "bash",
   "name": "bash"
  },
  "language_info": {
   "codemirror_mode": "shell",
   "file_extension": ".sh",
   "mimetype": "text/x-sh",
   "name": "bash"
  }
 },
 "nbformat": 4,
 "nbformat_minor": 2
}
